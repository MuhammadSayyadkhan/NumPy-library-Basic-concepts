{
 "cells": [
  {
   "cell_type": "markdown",
   "metadata": {},
   "source": [
    "## Arithmatic function in Numpy "
   ]
  },
  {
   "cell_type": "code",
   "execution_count": null,
   "metadata": {},
   "outputs": [
    {
     "name": "stdout",
     "output_type": "stream",
     "text": [
      "The minimum number is  0\n",
      "The maximum number is  55\n",
      "\n",
      "0 8\n",
      "55 6\n"
     ]
    }
   ],
   "source": [
    "import numpy as np\n",
    "num1=np.array([[4, 2, 5, 33, 2],[3, 55, 2, 0, 5]])\n",
    "print(\"The minimum number is \",np.min(num1))\n",
    "print(\"The maximum number is \",np.max(num1))\n",
    "print()\n",
    "print(np.min(num1), np.argmin(num1))  # Argmin mean find the index number of small value\n",
    "print(np.max(num1), np.argmax(num1))  # find the big value in array and display the index"
   ]
  },
  {
   "cell_type": "code",
   "execution_count": 3,
   "metadata": {},
   "outputs": [
    {
     "name": "stdout",
     "output_type": "stream",
     "text": [
      "0 2\n",
      "5 0\n"
     ]
    }
   ],
   "source": [
    "num1=np.array([5, 3, 0, 2])\n",
    "print(np.min(num1), np.argmin(num1))\n",
    "print(np.max(num1), np.argmax(num1))"
   ]
  },
  {
   "cell_type": "markdown",
   "metadata": {},
   "source": [
    "## Two dimensional Array function: \n",
    "we are find the mimum or maximum number in two dimensional array. to use the axis function axis=1 mean row and axis=0 mean column"
   ]
  },
  {
   "cell_type": "code",
   "execution_count": 4,
   "metadata": {},
   "outputs": [
    {
     "name": "stdout",
     "output_type": "stream",
     "text": [
      "[[ 0  2  4  5]\n",
      " [ 5 66  3  0]]\n",
      "The minumum number of two matrix  [0 2 3 0]\n",
      "The maximum number between two matrix  [ 5 66]\n"
     ]
    }
   ],
   "source": [
    "arr1=np.array([[0, 2, 4, 5],[5, 66, 3, 0]])\n",
    "print(arr1)\n",
    "print(\"The minumum number of two matrix \",np.min(arr1,axis=0)) # axis=0 column\n",
    "print(\"The maximum number between two matrix \",np.max(arr1,axis=1)) #axis=1 row"
   ]
  },
  {
   "cell_type": "markdown",
   "metadata": {},
   "source": [
    "## Square, cos, sin:\n",
    "we are check the matrix sqrt, sin, cos etc"
   ]
  },
  {
   "cell_type": "code",
   "execution_count": 5,
   "metadata": {},
   "outputs": [
    {
     "name": "stdout",
     "output_type": "stream",
     "text": [
      "Square [1.41421356 2.         2.23606798]\n",
      "\n",
      "Sin  [ 0.90929743 -0.7568025  -0.95892427]\n",
      "\n",
      "cos  [-0.41614684 -0.65364362  0.28366219]\n"
     ]
    }
   ],
   "source": [
    "matrix=np.array([2, 4, 5])\n",
    "print(\"Square\",np.sqrt(matrix))\n",
    "print()\n",
    "print(\"Sin \",np.sin(matrix))\n",
    "print()\n",
    "print(\"cos \",np.cos(matrix))"
   ]
  },
  {
   "cell_type": "markdown",
   "metadata": {},
   "source": [
    "## Cumsum:\n",
    "consum used for add the matrix value, the index 0 value is already same value print and then print index 0+1 add then 1+2 index "
   ]
  },
  {
   "cell_type": "code",
   "execution_count": 6,
   "metadata": {},
   "outputs": [
    {
     "name": "stdout",
     "output_type": "stream",
     "text": [
      "The comsum is  [ 2  6 11] \n",
      " Max value is  5 \n",
      " index is max value  2\n"
     ]
    }
   ],
   "source": [
    "comsume=np.array([2, 4, 5])\n",
    "print(\"The comsum is \", np.cumsum(comsume),\"\\n Max value is \",np.max(comsume), \"\\n index is max value \",np.argmax(comsume))"
   ]
  }
 ],
 "metadata": {
  "kernelspec": {
   "display_name": "Python 3",
   "language": "python",
   "name": "python3"
  },
  "language_info": {
   "codemirror_mode": {
    "name": "ipython",
    "version": 3
   },
   "file_extension": ".py",
   "mimetype": "text/x-python",
   "name": "python",
   "nbconvert_exporter": "python",
   "pygments_lexer": "ipython3",
   "version": "3.13.2"
  }
 },
 "nbformat": 4,
 "nbformat_minor": 2
}
