{
 "cells": [
  {
   "attachments": {},
   "cell_type": "markdown",
   "metadata": {},
   "source": [
    "Numpy arithmatic operation: \n",
    "\n",
    "Addition (+):\n",
    "You can add two arrays or a scalar to an array:"
   ]
  },
  {
   "cell_type": "code",
   "execution_count": 1,
   "metadata": {},
   "outputs": [
    {
     "name": "stdout",
     "output_type": "stream",
     "text": [
      "[11 12 13 14]\n"
     ]
    }
   ],
   "source": [
    "import numpy as np\n",
    "x=np.array([1, 2, 3, 4]) # One dimensional array \n",
    "y=x+10 # 10 is a scalar, scalar mean the array any value add 10 like 1+10, 2=10, 3+10, 4+10\n",
    "print(y)"
   ]
  },
  {
   "attachments": {},
   "cell_type": "markdown",
   "metadata": {},
   "source": [
    "Two Dimensional array add"
   ]
  },
  {
   "cell_type": "code",
   "execution_count": 2,
   "metadata": {},
   "outputs": [
    {
     "name": "stdout",
     "output_type": "stream",
     "text": [
      "The one is addition [2 4 6 8]\n",
      "The second is addition2 [2 4 6 8]\n"
     ]
    }
   ],
   "source": [
    "array1=np.array([1, 2, 3, 4])\n",
    "array2=np.array([1, 2, 3, 4])\n",
    "#Two method use addition two dimensional array \n",
    "addition=array1+array2  \n",
    "addition2=np.add(array1, array2)\n",
    "print(\"The one is addition\",addition)\n",
    "print(\"The second is addition2\",addition2)"
   ]
  },
  {
   "attachments": {},
   "cell_type": "markdown",
   "metadata": {},
   "source": [
    "take the value through keybard and use for loop and store the array then add value:\n",
    "\n",
    "[expression for item in iterable]\n",
    "expression: What to do with each item (e.g., modify it or perform a calculation).\n",
    "item: The current element in the iteration.\n",
    "iterable: The list (or any collection) that you are iterating through."
   ]
  },
  {
   "cell_type": "code",
   "execution_count": 3,
   "metadata": {},
   "outputs": [
    {
     "name": "stdout",
     "output_type": "stream",
     "text": [
      "[15, 15, 15, 15, 15]\n"
     ]
    }
   ],
   "source": [
    "value=[]\n",
    "for i in range(5):\n",
    "    num=int(input(\"Enter the value \\n\"))\n",
    "    value.append(num)\n",
    "sum_value=[x+3 for x in value] \n",
    "print(sum_value)\n",
    " "
   ]
  },
  {
   "attachments": {},
   "cell_type": "markdown",
   "metadata": {},
   "source": [
    "Subtraction (-):\n",
    "You can subtract arrays or a scalar from an array:"
   ]
  },
  {
   "cell_type": "code",
   "execution_count": 4,
   "metadata": {},
   "outputs": [
    {
     "name": "stdout",
     "output_type": "stream",
     "text": [
      "The one is addition [ 0  6 -6 -6]\n",
      "The second is addition2 [ 0  6 -6 -6]\n"
     ]
    }
   ],
   "source": [
    "array1=np.array([1, 8, 3, 4])\n",
    "array2=np.array([1, 2, 9, 10])\n",
    "#Two method use addition two dimensional array \n",
    "addition=array1-array2  \n",
    "addition2=np.subtract(array1, array2)\n",
    "print(\"The one is addition\",addition)\n",
    "print(\"The second is addition2\",addition2)"
   ]
  },
  {
   "attachments": {},
   "cell_type": "markdown",
   "metadata": {},
   "source": [
    "# Multiplication (*):\n",
    "Element-wise multiplication is supported:\n",
    "Element wise mean element by element"
   ]
  },
  {
   "cell_type": "code",
   "execution_count": 5,
   "metadata": {},
   "outputs": [
    {
     "name": "stdout",
     "output_type": "stream",
     "text": [
      "[2 2 9]\n",
      "[2 4 6]\n"
     ]
    }
   ],
   "source": [
    "arr1=np.array([1, 2, 3])\n",
    "arr2=np.array([2, 1, 3])\n",
    "result = arr1 * arr2  # Element-wise multiplication\n",
    "print(result)  # Output: [4 10 18]\n",
    "# tow method use previous program check it\n",
    "scalar_result = arr1 * 2  # Multiplying each element by a scalar\n",
    "print(scalar_result)  # Output: [2 4 6]\n"
   ]
  },
  {
   "cell_type": "markdown",
   "metadata": {},
   "source": [
    "# Division "
   ]
  },
  {
   "cell_type": "code",
   "execution_count": 6,
   "metadata": {},
   "outputs": [
    {
     "name": "stdout",
     "output_type": "stream",
     "text": [
      "[5. 2.]\n"
     ]
    }
   ],
   "source": [
    "var1=np.array([10, 4])\n",
    "div=var1/2\n",
    "print(div)"
   ]
  },
  {
   "cell_type": "code",
   "execution_count": 7,
   "metadata": {},
   "outputs": [
    {
     "name": "stdout",
     "output_type": "stream",
     "text": [
      "[6.         6.8        1.33333333]\n"
     ]
    }
   ],
   "source": [
    "var1=np.array([12, 34, 4])\n",
    "var2=np.array([2, 5, 3])\n",
    "division=np.divide(var1,var2)\n",
    "print(division)"
   ]
  },
  {
   "cell_type": "markdown",
   "metadata": {},
   "source": [
    "## Modulus:"
   ]
  },
  {
   "cell_type": "code",
   "execution_count": 8,
   "metadata": {},
   "outputs": [
    {
     "name": "stdout",
     "output_type": "stream",
     "text": [
      "[0 1]\n"
     ]
    }
   ],
   "source": [
    "value=np.array([12, 13])\n",
    "mod=value%2\n",
    "print(mod)"
   ]
  },
  {
   "cell_type": "markdown",
   "metadata": {},
   "source": [
    "## Two dimensional array addition"
   ]
  },
  {
   "cell_type": "code",
   "execution_count": 9,
   "metadata": {},
   "outputs": [
    {
     "name": "stdout",
     "output_type": "stream",
     "text": [
      "[[12 12 34 32]\n",
      " [ 1  2  3  4]]\n",
      "\n",
      "[[11  2  3 32]\n",
      " [ 1  2  9  4]]\n",
      "\n",
      "[[23 14 37 64]\n",
      " [ 2  4 12  8]]\n"
     ]
    }
   ],
   "source": [
    "value1=np.array([[12, 12, 34, 32], [1, 2, 3, 4]])\n",
    "value2=np.array([[11, 2, 3, 32], [1, 2, 9, 4]])\n",
    "addition = np.add(value1, value2)\n",
    "print(value1)\n",
    "print()\n",
    "print(value2)\n",
    "print()\n",
    "print(addition)"
   ]
  },
  {
   "cell_type": "markdown",
   "metadata": {},
   "source": [
    " ##  Matrix Operations (Dot Product)\n",
    "If you have 2D arrays (matrices), you can use np.dot() or @ for matrix multiplication:\n",
    "The matrix multiplication result c = a @ b will have elements calculated as follows:\n",
    "\n",
    "First row, first column: (1 * 5) + (2 * 7) = 5 + 14 = 19\n",
    "First row, second column: (1 * 6) + (2 * 8) = 6 + 16 = 22\n",
    "Second row, first column: (3 * 5) + (4 * 7) = 15 + 28 = 43\n",
    "Second row, second column: (3 * 6) + (4 * 8) = 18 + 32 = 50"
   ]
  },
  {
   "cell_type": "code",
   "execution_count": 10,
   "metadata": {},
   "outputs": [
    {
     "name": "stdout",
     "output_type": "stream",
     "text": [
      "[[19 22]\n",
      " [43 50]]\n"
     ]
    }
   ],
   "source": [
    "a = np.array([[1, 2], [3, 4]])\n",
    "b = np.array([[5, 6], [7, 8]])\n",
    "\n",
    "result = np.dot(a, b)  # Matrix multiplication\n",
    "# Or equivalently:\n",
    "# result = a @ b\n",
    "print(result)\n",
    "# Output: [[19 22]\n",
    "#          [43 50]]"
   ]
  },
  {
   "cell_type": "markdown",
   "metadata": {},
   "source": []
  }
 ],
 "metadata": {
  "kernelspec": {
   "display_name": "Python 3",
   "language": "python",
   "name": "python3"
  },
  "language_info": {
   "codemirror_mode": {
    "name": "ipython",
    "version": 3
   },
   "file_extension": ".py",
   "mimetype": "text/x-python",
   "name": "python",
   "nbconvert_exporter": "python",
   "pygments_lexer": "ipython3",
   "version": "3.13.3"
  },
  "orig_nbformat": 4
 },
 "nbformat": 4,
 "nbformat_minor": 2
}
