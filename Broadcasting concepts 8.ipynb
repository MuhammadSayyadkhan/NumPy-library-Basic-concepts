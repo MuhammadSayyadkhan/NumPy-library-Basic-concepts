{
 "cells": [
  {
   "cell_type": "markdown",
   "metadata": {},
   "source": [
    "## Broadcasting:\n",
    "Broadcasting in NumPy refers to the ability of NumPy to perform element-wise operations on arrays of different shapes. When you perform an operation between two arrays, NumPy will automatically \"broadcast\" the smaller array to match the shape of the larger one, under certain conditions.\n",
    "Note: mong sara broadcasting kar da de che mong sara two D array ao da mong 1 bal sara add kao no broadcast kar da de, che smaller size array da ba add kai big array sara."
   ]
  },
  {
   "cell_type": "code",
   "execution_count": 1,
   "metadata": {},
   "outputs": [
    {
     "name": "stdout",
     "output_type": "stream",
     "text": [
      "(3,)\n",
      "\n",
      "(3, 1)\n",
      "\n",
      "[[2 3 4]\n",
      " [3 4 5]\n",
      " [4 5 6]]\n"
     ]
    }
   ],
   "source": [
    "import numpy as np\n",
    "var = np.array([1, 2, 3])\n",
    "var_1 = np.array([[1],[2],[3]])\n",
    "print(var.shape)\n",
    "print()\n",
    "print(var_1.shape)\n",
    "print()\n",
    "print(var+var_1)"
   ]
  },
  {
   "cell_type": "code",
   "execution_count": 2,
   "metadata": {},
   "outputs": [
    {
     "name": "stdout",
     "output_type": "stream",
     "text": [
      "[[12]\n",
      " [13]]\n",
      "(2, 1)\n",
      "\n",
      "[[1]\n",
      " [2]]\n",
      "(2, 1)\n",
      " combine it\n",
      "\n",
      "[[13]\n",
      " [15]]\n"
     ]
    }
   ],
   "source": [
    "x = np.array([[12],[13]])\n",
    "y = np.array([[1],[2]])\n",
    "print(x)\n",
    "print(x.shape)\n",
    "print()\n",
    "print(y)\n",
    "print(y.shape)\n",
    "print(\" combine it\")\n",
    "print()\n",
    "print(x+y)\n"
   ]
  }
 ],
 "metadata": {
  "kernelspec": {
   "display_name": "Python 3",
   "language": "python",
   "name": "python3"
  },
  "language_info": {
   "codemirror_mode": {
    "name": "ipython",
    "version": 3
   },
   "file_extension": ".py",
   "mimetype": "text/x-python",
   "name": "python",
   "nbconvert_exporter": "python",
   "pygments_lexer": "ipython3",
   "version": "3.13.3"
  }
 },
 "nbformat": 4,
 "nbformat_minor": 2
}
