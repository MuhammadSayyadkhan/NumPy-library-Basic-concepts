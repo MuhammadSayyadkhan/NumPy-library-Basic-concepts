{
 "cells": [
  {
   "cell_type": "markdown",
   "metadata": {},
   "source": [
    "## np.concatenate()\n",
    "### Purpose: Joins arrays along an existing axis.\n",
    "### Syntax: np.concatenate((array1, array2, ...), axis=0)\n",
    "jb hm 2 array eik dosry k sat melaty hai join karty, wo axis 0 or axis 1, axis 0 mean column and axis 1 row"
   ]
  },
  {
   "cell_type": "markdown",
   "metadata": {},
   "source": [
    "### One Dimensional Array:"
   ]
  },
  {
   "cell_type": "code",
   "execution_count": 3,
   "metadata": {},
   "outputs": [
    {
     "name": "stdout",
     "output_type": "stream",
     "text": [
      "[1 2 3]\n",
      "\n",
      "[4 5 6]\n",
      "\n",
      "[1 2 3 4 5 6]\n"
     ]
    }
   ],
   "source": [
    "import numpy as np\n",
    "arr1 = np.array([1, 2, 3])\n",
    "arr2 = np.array([4, 5, 6])\n",
    "join = np.concatenate((arr1, arr2)) # Dono array eik dosro k sath concatenate karna.\n",
    "print(arr1)\n",
    "print()\n",
    "print(arr2)\n",
    "print()\n",
    "print(join)"
   ]
  },
  {
   "cell_type": "markdown",
   "metadata": {},
   "source": [
    "### Two Dimensional Array:\n",
    "we are join two dimensional Array through vertical and hosrizental."
   ]
  },
  {
   "cell_type": "code",
   "execution_count": 4,
   "metadata": {},
   "outputs": [
    {
     "name": "stdout",
     "output_type": "stream",
     "text": [
      "[[1 2]\n",
      " [3 4]\n",
      " [5 6]\n",
      " [7 8]]\n",
      "************\n",
      "[[1 2]\n",
      " [3 4]\n",
      " [5 6]\n",
      " [7 8]]\n",
      "+++++++++++++\n",
      "[[1 2 5 6]\n",
      " [3 4 7 8]]\n"
     ]
    }
   ],
   "source": [
    "vr = np.array([[1, 2],[3, 4]])\n",
    "vr1 = np.array([[5,6],[7,8]])\n",
    "arr_new = np.concatenate((vr, vr1))\n",
    "print(arr_new)\n",
    "print(\"************\")\n",
    "arr_new1 = np.concatenate((vr, vr1), axis=0)\n",
    "print(arr_new1)\n",
    "print(\"+++++++++++++\")\n",
    "arr_new2 = np.concatenate((vr, vr1), axis=1)\n",
    "print(arr_new2)\n",
    "\n",
    "\n",
    "\n"
   ]
  },
  {
   "cell_type": "markdown",
   "metadata": {},
   "source": [
    "## Stack :\n",
    "we are used in stack numpy, between merge two array, then row wise axis or column wise axis, height wise axis."
   ]
  },
  {
   "cell_type": "markdown",
   "metadata": {},
   "source": [
    "## np.vstack() (Vertical Stack)\n",
    "Purpose: Stacks arrays vertically (row-wise), i.e., along axis 0.\n",
    "Syntax: np.vstack((array1, array2, ...))\n"
   ]
  },
  {
   "cell_type": "code",
   "execution_count": 5,
   "metadata": {},
   "outputs": [
    {
     "name": "stdout",
     "output_type": "stream",
     "text": [
      "[[1 2 3]\n",
      " [4 5 6]]\n"
     ]
    }
   ],
   "source": [
    "var1= np.array([1, 2, 3])\n",
    "var2= np.array([4, 5, 6])\n",
    "result = np.vstack((var1, var2))\n",
    "print(result)"
   ]
  },
  {
   "cell_type": "markdown",
   "metadata": {},
   "source": [
    "## np.hstack() (Horizontal Stack)\n",
    "Purpose: Stacks arrays horizontally (column-wise), i.e., along axis 1.\n",
    "Syntax: np.hstack((array1, array2, ...))"
   ]
  },
  {
   "cell_type": "code",
   "execution_count": 6,
   "metadata": {},
   "outputs": [
    {
     "name": "stdout",
     "output_type": "stream",
     "text": [
      "[1 2 3 4 5 6]\n"
     ]
    }
   ],
   "source": [
    "x= np.array([1, 2, 3])\n",
    "y= np.array([4, 5, 6])\n",
    "z=np.hstack((x,y))\n",
    "print(z)"
   ]
  },
  {
   "cell_type": "markdown",
   "metadata": {},
   "source": [
    "## np.dstack() (Depth Stack)\n",
    "Purpose: Stacks arrays along a new third axis (depth).\n",
    "Syntax: np.dstack((array1, array2, ...))"
   ]
  },
  {
   "cell_type": "code",
   "execution_count": 7,
   "metadata": {},
   "outputs": [
    {
     "name": "stdout",
     "output_type": "stream",
     "text": [
      "[[[11 44]\n",
      "  [22 55]\n",
      "  [33 66]\n",
      "  [44 55]]]\n",
      "3\n"
     ]
    }
   ],
   "source": [
    "xx = np.array([11, 22, 33, 44])\n",
    "yy = np.array([44, 55, 66, 55])\n",
    "zz=np.dstack((xx, yy))\n",
    "print(zz)\n",
    "print(zz.ndim)"
   ]
  },
  {
   "cell_type": "markdown",
   "metadata": {},
   "source": [
    "## Split:\n",
    "split function hm jb use karty, keh one dimensional array or two dimensional array ko taqsim kary."
   ]
  },
  {
   "cell_type": "code",
   "execution_count": null,
   "metadata": {},
   "outputs": [
    {
     "name": "stdout",
     "output_type": "stream",
     "text": [
      "[array([1, 2, 3]), array([4, 5, 6])]\n",
      "[array([[1],\n",
      "       [4]]), array([[2],\n",
      "       [5]])]\n"
     ]
    }
   ],
   "source": [
    "a= np.array([1, 2, 3, 4, 5, 6])\n",
    "b=np.array_split(a, 2) # b mai a ka array store hwa hai jo split hwa two dimensional array mai.\n",
    "c=np.array_split(b, 2,axis=1) \n",
    "print(b)\n",
    "print(c)"
   ]
  }
 ],
 "metadata": {
  "kernelspec": {
   "display_name": "Python 3",
   "language": "python",
   "name": "python3"
  },
  "language_info": {
   "codemirror_mode": {
    "name": "ipython",
    "version": 3
   },
   "file_extension": ".py",
   "mimetype": "text/x-python",
   "name": "python",
   "nbconvert_exporter": "python",
   "pygments_lexer": "ipython3",
   "version": "3.13.2"
  }
 },
 "nbformat": 4,
 "nbformat_minor": 2
}
