{
 "cells": [
  {
   "cell_type": "markdown",
   "metadata": {},
   "source": [
    "## Copy and View:\n"
   ]
  },
  {
   "cell_type": "markdown",
   "metadata": {},
   "source": [
    "## Copy :\n",
    "copy ka matlab hai 1 jaga sai data copy karna, aur dosry jaga par paste karna. copy and view mai main difference e hai, keh jab hm origional data mai changes kary to copy hai na ismi changes nahi hogy. aur copy function use karty hai."
   ]
  },
  {
   "cell_type": "code",
   "execution_count": null,
   "metadata": {},
   "outputs": [],
   "source": [
    "import numpy as np\n",
    "x = np.array([1, 2, 3, 4])\n",
    "y = x.copy()\n",
    "print(\" X \",x) \n",
    "print(\" Y \", y)\n",
    "# copy and origional array dono same hai"
   ]
  },
  {
   "cell_type": "markdown",
   "metadata": {},
   "source": [
    "## Changes in origional Array:\n",
    "one value ka index change karta ho, per dekty hai kia hota hai."
   ]
  },
  {
   "cell_type": "code",
   "execution_count": null,
   "metadata": {},
   "outputs": [],
   "source": [
    "cpy = np.array([10, 12, 45, 23])\n",
    "cpy1=cpy.copy()\n",
    "cpy[2]=100 # index 2 assign new data \n",
    "print(cpy)\n",
    "print(cpy1)\n",
    "# does not change the copy array\n"
   ]
  },
  {
   "cell_type": "markdown",
   "metadata": {},
   "source": [
    "## View :\n",
    "origional array ka view karna, view mai main point e hai, ka hm origional array mai changes kary to view waly array mai bhiii changes hoga dekty hai practically."
   ]
  },
  {
   "cell_type": "code",
   "execution_count": null,
   "metadata": {},
   "outputs": [],
   "source": [
    "vi = np.array([10, 12, 11, 14, 23])\n",
    "v=vi.view() # view function use k, jo origional array hai iska dosra copy or view variable mai daldia.\n",
    "vi[2]=100 # index 2 par changes kia 11 k jaga par 100 print hoga\n",
    "print(vi)\n",
    "print(v)\n",
    "# dono mai changes ho gye."
   ]
  },
  {
   "cell_type": "markdown",
   "metadata": {},
   "source": [
    "# Copy and View difference:\n",
    "### Copy:\n",
    "jb hm origional data mai changes kary, to copy array hai na ismy changes nahi hogy.\n",
    "### View:\n",
    "jb hm origional data mai changes kary, to jo copy mean view array hai, ismy change hogy."
   ]
  }
 ],
 "metadata": {
  "kernelspec": {
   "display_name": "Python 3",
   "language": "python",
   "name": "python3"
  },
  "language_info": {
   "codemirror_mode": {
    "name": "ipython",
    "version": 3
   },
   "file_extension": ".py",
   "mimetype": "text/x-python",
   "name": "python",
   "nbconvert_exporter": "python",
   "pygments_lexer": "ipython3",
   "version": "3.13.2"
  }
 },
 "nbformat": 4,
 "nbformat_minor": 2
}
