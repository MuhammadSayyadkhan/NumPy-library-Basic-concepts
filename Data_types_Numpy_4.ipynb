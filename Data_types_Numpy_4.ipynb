{
 "cells": [
  {
   "cell_type": "markdown",
   "metadata": {},
   "source": [
    "#### Data type of numpy\n",
    "NumPy has its own data types for numbers, text, and more. These are used to make arrays fast and efficient.\n",
    "\n"
   ]
  },
  {
   "cell_type": "code",
   "execution_count": 2,
   "metadata": {},
   "outputs": [
    {
     "name": "stdout",
     "output_type": "stream",
     "text": [
      "[1 2 3]\n",
      "a dtype: int32\n",
      "b dtype: float64\n",
      "c dtype: bool\n",
      "d dtype: <U6\n"
     ]
    }
   ],
   "source": [
    "import numpy as np\n",
    "\n",
    "# Integer array\n",
    "a = np.array([1, 2, 3], dtype=np.int32)\n",
    "\n",
    "# Float array\n",
    "b = np.array([1.5, 2.5], dtype=np.float64)\n",
    "\n",
    "# Boolean array\n",
    "c = np.array([True, False, True], dtype=np.bool_)\n",
    "\n",
    "# String array\n",
    "d = np.array([\"apple\", \"banana\"], dtype=np.str_)\n",
    "\n",
    "# Print data types\n",
    "print(a)\n",
    "print(\"a dtype:\", a.dtype)\n",
    "print(\"b dtype:\", b.dtype)\n",
    "print(\"c dtype:\", c.dtype)\n",
    "print(\"d dtype:\", d.dtype)"
   ]
  }
 ],
 "metadata": {
  "kernelspec": {
   "display_name": "Python 3",
   "language": "python",
   "name": "python3"
  },
  "language_info": {
   "codemirror_mode": {
    "name": "ipython",
    "version": 3
   },
   "file_extension": ".py",
   "mimetype": "text/x-python",
   "name": "python",
   "nbconvert_exporter": "python",
   "pygments_lexer": "ipython3",
   "version": "3.13.3"
  }
 },
 "nbformat": 4,
 "nbformat_minor": 2
}
