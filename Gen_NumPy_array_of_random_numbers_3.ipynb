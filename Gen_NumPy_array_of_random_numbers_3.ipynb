{
 "cells": [
  {
   "cell_type": "markdown",
   "id": "2e8ffa26",
   "metadata": {},
   "source": [
    "#### Random number:\n",
    "NumPy can create random numbers using numpy.random. You can generate random integers, floats, or even random numbers in arrays.\n",
    "\n"
   ]
  },
  {
   "cell_type": "code",
   "execution_count": 6,
   "id": "e722e536",
   "metadata": {},
   "outputs": [
    {
     "name": "stdout",
     "output_type": "stream",
     "text": [
      "6\n"
     ]
    }
   ],
   "source": [
    "import numpy as np\n",
    "arr = np.random.randint(1, 10)\n",
    "print(arr)"
   ]
  },
  {
   "cell_type": "markdown",
   "id": "37cbdf1d",
   "metadata": {},
   "source": [
    "create one to hundred number of array and take the five different value."
   ]
  },
  {
   "cell_type": "code",
   "execution_count": 10,
   "id": "3f254ca6",
   "metadata": {},
   "outputs": [
    {
     "name": "stdout",
     "output_type": "stream",
     "text": [
      "[ 2 40 97 80 31]\n"
     ]
    }
   ],
   "source": [
    "arr = np.random.randint(1, 100,size=5)\n",
    "print(arr)"
   ]
  }
 ],
 "metadata": {
  "kernelspec": {
   "display_name": "Python 3",
   "language": "python",
   "name": "python3"
  },
  "language_info": {
   "codemirror_mode": {
    "name": "ipython",
    "version": 3
   },
   "file_extension": ".py",
   "mimetype": "text/x-python",
   "name": "python",
   "nbconvert_exporter": "python",
   "pygments_lexer": "ipython3",
   "version": "3.13.3"
  }
 },
 "nbformat": 4,
 "nbformat_minor": 5
}
