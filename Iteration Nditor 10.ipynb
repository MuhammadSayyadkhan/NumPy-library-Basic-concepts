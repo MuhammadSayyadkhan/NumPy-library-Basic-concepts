{
 "cells": [
  {
   "cell_type": "markdown",
   "metadata": {},
   "source": [
    "## Iteration:\n",
    "Iteration in NumPy arrays is efficient and can be done in several ways. Here are a few methods to iterate over a NumPy array:\n",
    "## OR\n",
    "iteration  used for we are access one by one element in array through for loop."
   ]
  },
  {
   "cell_type": "markdown",
   "metadata": {},
   "source": [
    "## One dimensional Array iteration:\n",
    "We are used simple for loop."
   ]
  },
  {
   "cell_type": "code",
   "execution_count": null,
   "metadata": {},
   "outputs": [],
   "source": [
    "import numpy as np\n",
    "var = np.array([1, 2, 3, 4])\n",
    "print(var)\n",
    "print()\n",
    "for i in var:\n",
    " print(i)\n",
    "\n",
    " "
   ]
  },
  {
   "cell_type": "markdown",
   "metadata": {},
   "source": [
    "## Two Dimensional Array:\n"
   ]
  },
  {
   "cell_type": "code",
   "execution_count": null,
   "metadata": {},
   "outputs": [],
   "source": [
    "var1= np.array([[11, 22, 33],[33, 44, 55],[44, 66, 77]])\n",
    "print(var1)\n",
    "print(var1.ndim)\n",
    "print()\n",
    "for i in var1:\n",
    "    for j in i:\n",
    "        print(j)"
   ]
  },
  {
   "cell_type": "markdown",
   "metadata": {},
   "source": [
    "## Three dimensional Array:"
   ]
  },
  {
   "cell_type": "code",
   "execution_count": null,
   "metadata": {},
   "outputs": [],
   "source": [
    "var3 = np.array([[[12, 233, 44],[66, 55, 44],[5,33,22]]])\n",
    "print(var3)\n",
    "print(var3.ndim)\n",
    "print()\n",
    "## three time for loop used.\n",
    "for i in var3:\n",
    "    for j in i:\n",
    "        for k in j:\n",
    "            print(k)"
   ]
  },
  {
   "cell_type": "markdown",
   "metadata": {},
   "source": [
    "## Using nditer() for Iteration\n",
    "The nditer() function provides a more flexible way to iterate over arrays, especially when working with multi-dimensional arrays. It allows for more control, such as simultaneous iteration over multiple axes.\n",
    "#### OR\n",
    "we are used nditor control the program time and does not used for loop i.e : three dimensional array used for loop three time, and nditor used to one time for loop used."
   ]
  },
  {
   "cell_type": "code",
   "execution_count": null,
   "metadata": {},
   "outputs": [],
   "source": [
    "var4= np.array([[[1,2 ,3 , 4],[3, 4, 2, 2]]])\n",
    "print(var4.ndim)\n",
    "for i in np.nditer(var4):  # used one time for loop\n",
    "    print(i)"
   ]
  },
  {
   "cell_type": "markdown",
   "metadata": {},
   "source": [
    "## Using enumerate() for Index and Element\n",
    "When you need both the index and the value during iteration, you can use enumerate().\n",
    "ndenumerat() function used."
   ]
  },
  {
   "cell_type": "code",
   "execution_count": 20,
   "metadata": {},
   "outputs": [
    {
     "name": "stdout",
     "output_type": "stream",
     "text": [
      "[[[ 1  2  3  4]\n",
      "  [ 3  4  2  2]\n",
      "  [22 44 33 22]]]\n",
      "3\n",
      " Index :(0, 0, 0) element :1\n",
      " Index :(0, 0, 1) element :2\n",
      " Index :(0, 0, 2) element :3\n",
      " Index :(0, 0, 3) element :4\n",
      " Index :(0, 1, 0) element :3\n",
      " Index :(0, 1, 1) element :4\n",
      " Index :(0, 1, 2) element :2\n",
      " Index :(0, 1, 3) element :2\n",
      " Index :(0, 2, 0) element :22\n",
      " Index :(0, 2, 1) element :44\n",
      " Index :(0, 2, 2) element :33\n",
      " Index :(0, 2, 3) element :22\n"
     ]
    }
   ],
   "source": [
    "var4= np.array([[[1,2 ,3 , 4],[3, 4, 2, 2],[22, 44, 33, 22]]])\n",
    "print(var4)\n",
    "print(var4.ndim)\n",
    "for index, data in np.ndenumerate(var4):\n",
    "     print(f\" Index :{index} element :{data}\")\n",
    "    # print(index, data)"
   ]
  }
 ],
 "metadata": {
  "kernelspec": {
   "display_name": "Python 3",
   "language": "python",
   "name": "python3"
  },
  "language_info": {
   "codemirror_mode": {
    "name": "ipython",
    "version": 3
   },
   "file_extension": ".py",
   "mimetype": "text/x-python",
   "name": "python",
   "nbconvert_exporter": "python",
   "pygments_lexer": "ipython3",
   "version": "3.13.2"
  }
 },
 "nbformat": 4,
 "nbformat_minor": 2
}
