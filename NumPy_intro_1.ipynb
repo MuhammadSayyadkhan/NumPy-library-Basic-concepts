{
 "cells": [
  {
   "cell_type": "markdown",
   "metadata": {},
   "source": [
    "Array: to create numpy array to use the function np.array()"
   ]
  },
  {
   "cell_type": "code",
   "execution_count": 1,
   "metadata": {},
   "outputs": [
    {
     "name": "stdout",
     "output_type": "stream",
     "text": [
      "[1 2 3 4]\n"
     ]
    }
   ],
   "source": [
    "import numpy as np\n",
    "x=[1, 2, 3, 4]\n",
    "y=np.array(x)\n",
    "print(y)"
   ]
  },
  {
   "cell_type": "markdown",
   "metadata": {},
   "source": [
    "We are enter the value through for loop and store the array"
   ]
  },
  {
   "cell_type": "code",
   "execution_count": 2,
   "metadata": {},
   "outputs": [
    {
     "name": "stdout",
     "output_type": "stream",
     "text": [
      "[12 12 12  2]\n"
     ]
    }
   ],
   "source": [
    "\n",
    "value=[]  #Empty list declare\n",
    "for i in range(1,5): # 1 to 4 value pass n-1\n",
    "    value1=int(input(\"Enter the value \"))\n",
    "    value.append(value1)  # we are store data in value variable\n",
    "print(np.array(value))  # and then print the value so store the array \n",
    "#np.array mean store data in array"
   ]
  },
  {
   "cell_type": "markdown",
   "metadata": {},
   "source": [
    "Types of Numpy Array:\n",
    "One Dimensional Array 1D/ 1's= array1=np.array([1, 2, 3, 4])\n",
    "Two Dimesional Array 2D/2's =  array2=np.array([[1, 2, 3, 4],[5, 6, 7, 8]])\n",
    "Three dimesional Array 3D/3's = array3=np.array([[[11, 22, 33, 44],[5, 6, 7, 8],[1, 2, 3, 4]]])\n",
    "\n",
    "Main point we are check the dimmesional of array we are use the (ndim) i.e arr=np.array([1, 3, 5])\n",
    "                                                                           print(arr.ndim)\n",
    "                                                                           "
   ]
  },
  {
   "cell_type": "markdown",
   "metadata": {},
   "source": [
    "ONE DIMENSIONAL ARRAY"
   ]
  },
  {
   "cell_type": "code",
   "execution_count": 3,
   "metadata": {},
   "outputs": [
    {
     "name": "stdout",
     "output_type": "stream",
     "text": [
      "[1 2 3 4]\n",
      "1\n"
     ]
    }
   ],
   "source": [
    "array1=np.array([1, 2, 3, 4])\n",
    "print(array1)\n",
    "print(array1.ndim)"
   ]
  },
  {
   "cell_type": "markdown",
   "metadata": {},
   "source": [
    "TWO DIMENSIONAL ARRAY"
   ]
  },
  {
   "cell_type": "code",
   "execution_count": 4,
   "metadata": {},
   "outputs": [
    {
     "name": "stdout",
     "output_type": "stream",
     "text": [
      "[[ 1  2  3  4]\n",
      " [11 22 33 44]]\n",
      "2\n"
     ]
    }
   ],
   "source": [
    "array2=np.array([[1, 2, 3, 4], [11, 22, 33, 44]])\n",
    "print(array2)\n",
    "print(array2.ndim)"
   ]
  },
  {
   "cell_type": "markdown",
   "metadata": {},
   "source": [
    "THREE DIMESIONAL ARRAY"
   ]
  },
  {
   "cell_type": "code",
   "execution_count": 5,
   "metadata": {},
   "outputs": [
    {
     "name": "stdout",
     "output_type": "stream",
     "text": [
      "[[[ 1  2  3  4]\n",
      "  [12 13 14 14]\n",
      "  [11 21 22 12]]]\n",
      "3\n"
     ]
    }
   ],
   "source": [
    "array3=np.array([[[1, 2, 3, 4],[12, 13, 14, 14],[11, 21, 22, 12]]])\n",
    "print(array3)\n",
    "print(array3.ndim)"
   ]
  },
  {
   "cell_type": "markdown",
   "metadata": {},
   "source": [
    "like we are check the ten dimensionsal array"
   ]
  },
  {
   "cell_type": "code",
   "execution_count": 6,
   "metadata": {},
   "outputs": [
    {
     "name": "stdout",
     "output_type": "stream",
     "text": [
      "[[[[[[[[[[1 2 3 4]]]]]]]]]]\n",
      "10\n"
     ]
    }
   ],
   "source": [
    "array10=np.array([1, 2, 3, 4], ndmin=10)\n",
    "print(array10)\n",
    "print(array10.ndim)"
   ]
  },
  {
   "cell_type": "markdown",
   "metadata": {},
   "source": [
    "THREE DIMENSIONAL data pass through keyboard"
   ]
  },
  {
   "cell_type": "code",
   "execution_count": 7,
   "metadata": {},
   "outputs": [
    {
     "ename": "ValueError",
     "evalue": "invalid literal for int() with base 10: ''",
     "output_type": "error",
     "traceback": [
      "\u001b[1;31m---------------------------------------------------------------------------\u001b[0m",
      "\u001b[1;31mValueError\u001b[0m                                Traceback (most recent call last)",
      "Cell \u001b[1;32mIn[7], line 3\u001b[0m\n\u001b[0;32m      1\u001b[0m value \u001b[38;5;241m=\u001b[39m []  \u001b[38;5;66;03m# Empty list to store values\u001b[39;00m\n\u001b[0;32m      2\u001b[0m \u001b[38;5;28;01mfor\u001b[39;00m i \u001b[38;5;129;01min\u001b[39;00m \u001b[38;5;28mrange\u001b[39m(\u001b[38;5;241m1\u001b[39m, \u001b[38;5;241m5\u001b[39m):  \u001b[38;5;66;03m# 1 to 4 values\u001b[39;00m\n\u001b[1;32m----> 3\u001b[0m     value1 \u001b[38;5;241m=\u001b[39m \u001b[38;5;28;43mint\u001b[39;49m\u001b[43m(\u001b[49m\u001b[38;5;28;43minput\u001b[39;49m\u001b[43m(\u001b[49m\u001b[38;5;124;43m\"\u001b[39;49m\u001b[38;5;124;43mEnter the value: \u001b[39;49m\u001b[38;5;124;43m\"\u001b[39;49m\u001b[43m)\u001b[49m\u001b[43m)\u001b[49m  \u001b[38;5;66;03m# Get user input\u001b[39;00m\n\u001b[0;32m      4\u001b[0m     value\u001b[38;5;241m.\u001b[39mappend(value1)  \u001b[38;5;66;03m# Store each value\u001b[39;00m\n\u001b[0;32m      6\u001b[0m \u001b[38;5;66;03m# Convert the list to a NumPy array and reshape it to 3D (e.g., shape (2, 2, 1))\u001b[39;00m\n",
      "\u001b[1;31mValueError\u001b[0m: invalid literal for int() with base 10: ''"
     ]
    }
   ],
   "source": [
    "value = []  # Empty list to store values\n",
    "for i in range(1, 5):  # 1 to 4 values\n",
    "    value1 = int(input(\"Enter the value: \"))  # Get user input\n",
    "    value.append(value1)  # Store each value\n",
    "\n",
    "# Convert the list to a NumPy array and reshape it to 3D (e.g., shape (2, 2, 1))\n",
    "three_dim_array = np.array(value).reshape(2, 2, 1)\n",
    "\n",
    "print(\"3D Array:\")\n",
    "print(three_dim_array)"
   ]
  }
 ],
 "metadata": {
  "kernelspec": {
   "display_name": "Python 3",
   "language": "python",
   "name": "python3"
  },
  "language_info": {
   "codemirror_mode": {
    "name": "ipython",
    "version": 3
   },
   "file_extension": ".py",
   "mimetype": "text/x-python",
   "name": "python",
   "nbconvert_exporter": "python",
   "pygments_lexer": "ipython3",
   "version": "3.13.2"
  }
 },
 "nbformat": 4,
 "nbformat_minor": 2
}
