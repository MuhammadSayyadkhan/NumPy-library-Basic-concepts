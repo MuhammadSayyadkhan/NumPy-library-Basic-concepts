{
 "cells": [
  {
   "cell_type": "markdown",
   "metadata": {},
   "source": [
    "## Shape:\n",
    "The shape attribute of a NumPy array gives you the dimensions of the array (i.e., the number of elements along each axis). It returns a tuple representing the size of the array along each dimension.\n",
    "And use shape function."
   ]
  },
  {
   "cell_type": "code",
   "execution_count": 1,
   "metadata": {},
   "outputs": [
    {
     "name": "stdout",
     "output_type": "stream",
     "text": [
      "(3,)\n"
     ]
    }
   ],
   "source": [
    "import numpy as np\n",
    "var=np.array([1, 2, 4])\n",
    "print(var.shape)"
   ]
  },
  {
   "cell_type": "code",
   "execution_count": 2,
   "metadata": {},
   "outputs": [
    {
     "name": "stdout",
     "output_type": "stream",
     "text": [
      "[[2 3 5]\n",
      " [5 3 5]]\n",
      "\n",
      "(2, 3)\n",
      "2\n"
     ]
    }
   ],
   "source": [
    "var1=np.array([[2,3 , 5],[5, 3, 5]])\n",
    "print(var1)\n",
    "print()\n",
    "print(var1.shape)\n",
    "print(np.ndim(var1)) # we are check the dimensional"
   ]
  },
  {
   "cell_type": "code",
   "execution_count": 3,
   "metadata": {},
   "outputs": [
    {
     "name": "stdout",
     "output_type": "stream",
     "text": [
      "[[[[1 2 3]]]]\n",
      "(1, 1, 1, 3)\n"
     ]
    }
   ],
   "source": [
    "var=np.array([1, 2, 3], ndmin=4) #ndmin mean in this array convert to four dimensional array\n",
    "print(var)\n",
    "print(var.shape) #output 1, 1, 1, 3 > three one mean first three bracket in array"
   ]
  },
  {
   "cell_type": "markdown",
   "metadata": {},
   "source": [
    "## Reshape:\n",
    "The reshape() function allows you to change the shape of an array without changing its data. It returns a new array with the specified shape, as long as the total number of elements matches the original shape.\n",
    "And use reshape function."
   ]
  },
  {
   "cell_type": "code",
   "execution_count": 4,
   "metadata": {},
   "outputs": [
    {
     "name": "stdout",
     "output_type": "stream",
     "text": [
      "[1 2 4 5 6 7 8 9]\n",
      "1\n",
      "\n",
      "[[1 2 4 5]\n",
      " [6 7 8 9]]\n",
      "2\n"
     ]
    }
   ],
   "source": [
    "varr=np.array([1, 2, 4, 5, 6, 7, 8, 9])\n",
    "print(varr)\n",
    "print(varr.ndim)\n",
    "print()\n",
    "x=varr.reshape(2,4) # in this array conver to two row and 4 column\n",
    "print(x)\n",
    "print(x.ndim)"
   ]
  },
  {
   "cell_type": "code",
   "execution_count": 5,
   "metadata": {},
   "outputs": [
    {
     "name": "stdout",
     "output_type": "stream",
     "text": [
      "[[[ 1  2]\n",
      "  [ 3  4]\n",
      "  [ 5  6]]\n",
      "\n",
      " [[ 7  8]\n",
      "  [ 9 10]\n",
      "  [11 13]]]\n",
      "3\n"
     ]
    }
   ],
   "source": [
    "var=np.array([1, 2, 3, 4, 5, 6, 7, 8, 9, 10, 11, 13])\n",
    "y=var.reshape(2, 3, 2) #  2 mean two dimensional, 3 row, 2 column\n",
    "print(y)\n",
    "print(y.ndim)"
   ]
  },
  {
   "cell_type": "markdown",
   "metadata": {},
   "source": [
    "We are conver in previous program three dimensional array  to one dimensional array "
   ]
  },
  {
   "cell_type": "code",
   "execution_count": 6,
   "metadata": {},
   "outputs": [
    {
     "name": "stdout",
     "output_type": "stream",
     "text": [
      "[[[ 1  2]\n",
      "  [ 3  4]\n",
      "  [ 5  6]]\n",
      "\n",
      " [[ 7  8]\n",
      "  [ 9 10]\n",
      "  [11 13]]]\n",
      "3\n",
      "\n",
      "[ 1  2  3  4  5  6  7  8  9 10 11 13]\n",
      "1\n"
     ]
    }
   ],
   "source": [
    "var=np.array([1, 2, 3, 4, 5, 6, 7, 8, 9, 10, 11, 13])\n",
    "y=var.reshape(2, 3, 2) #  2 mean two dimensional, 3 row, 2 column\n",
    "print(y)\n",
    "print(y.ndim)\n",
    "print()\n",
    "x=y.reshape(-1) # -1 mean conver to one dimensioal array or previous array \n",
    "print(x)\n",
    "print(x.ndim)"
   ]
  }
 ],
 "metadata": {
  "kernelspec": {
   "display_name": "Python 3",
   "language": "python",
   "name": "python3"
  },
  "language_info": {
   "codemirror_mode": {
    "name": "ipython",
    "version": 3
   },
   "file_extension": ".py",
   "mimetype": "text/x-python",
   "name": "python",
   "nbconvert_exporter": "python",
   "pygments_lexer": "ipython3",
   "version": "3.13.2"
  }
 },
 "nbformat": 4,
 "nbformat_minor": 2
}
