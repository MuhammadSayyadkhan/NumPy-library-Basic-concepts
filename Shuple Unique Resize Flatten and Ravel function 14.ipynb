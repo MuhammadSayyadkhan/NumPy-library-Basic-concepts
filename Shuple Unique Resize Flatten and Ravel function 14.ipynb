{
 "cells": [
  {
   "cell_type": "markdown",
   "metadata": {},
   "source": [
    "## numpy.shuffle()\n",
    "Purpose: Randomly shuffles the elements of an array in place (i.e., the original array is modified).\n",
    "=> mong sara origional array change she.\n",
    "Syntax: numpy.random.shuffle(arr)"
   ]
  },
  {
   "cell_type": "code",
   "execution_count": null,
   "metadata": {},
   "outputs": [],
   "source": [
    "import numpy as np\n",
    "var = np.array([1, 2, 3, 4, 5])\n",
    "np.random.shuffle(var) # random mong de para use kao che mong sara defferent data rawakhly. random modue de\n",
    "print(var)"
   ]
  },
  {
   "cell_type": "markdown",
   "metadata": {},
   "source": [
    "## numpy.unique()\n",
    "Purpose: Finds the unique elements of an array and returns them in a sorted order. It can also return the indices of the unique elements, counts, etc.\n",
    "\n",
    "## Syntax: numpy.unique(arr, return_index=False, return_inverse=False, return_counts=False)\n",
    "\n",
    "Parameters:\n",
    "\n",
    "arr: The input array.\n",
    "return_index: If True, it also returns the indices of the unique elements.\n",
    "return_inverse: If True, it returns the indices to reconstruct the original array.\n",
    "return_counts: If True, it returns the number of times each unique element appears.\n",
    "## Note:\n",
    "mong sara duplicate value one time print kai, ao count kai e che ketny bar aya hai. ao index malomai."
   ]
  },
  {
   "cell_type": "code",
   "execution_count": null,
   "metadata": {},
   "outputs": [],
   "source": [
    "x = np.array([1, 2, 3, 4, 9, 3, 2, 4, 7, 8, 4])\n",
    "np.unique(x)\n",
    "y= np.unique(x, return_counts=True) # che sa time pa k 1 shan value raghaly de. i.e : 2 pa k two time.\n",
    "z=np.unique(x, return_index=True)   # determining the index of value\n",
    "a= np.unique(x, return_inverse=True)\n",
    "print(y)\n",
    "print()\n",
    "print(z)\n",
    "print()\n",
    "print(a)"
   ]
  },
  {
   "cell_type": "markdown",
   "metadata": {},
   "source": [
    "## numpy.resize()\n",
    "### Purpose: \n",
    "Changes the shape and size of an array. If the new size is greater than the original, it will repeat the array elements. If it is smaller, the array is truncated.\n",
    "\n",
    "### Syntax: \n",
    "numpy.resize(arr, new_shape)\n",
    "### Note:\n",
    "mong sara one dimensional array k changes kawal, 2 row 3 coulumn etc"
   ]
  },
  {
   "cell_type": "code",
   "execution_count": null,
   "metadata": {},
   "outputs": [],
   "source": [
    "arr = np.array([1, 2, 3])\n",
    "resized_arr = np.resize(arr, (2, 3))  # Shape is now 2x3\n",
    "print(resized_arr)\n",
    "# Output: \n",
    "# [[1 2 3]\n",
    "#  [1 2 3]]"
   ]
  },
  {
   "cell_type": "code",
   "execution_count": null,
   "metadata": {},
   "outputs": [],
   "source": [
    "arr = np.array([1, 2, 3, 4, 5, 6])\n",
    "resized_arr = np.resize(arr, (3, 2))  # Shape is now 2x3\n",
    "print(resized_arr)"
   ]
  },
  {
   "cell_type": "markdown",
   "metadata": {},
   "source": [
    "## numpy.flatten()\n",
    "## Purpose:\n",
    " Flattens a multi-dimensional array into a 1D array. This function returns a copy of the original array, so modifying the flattened array does not affect the original array.\n",
    " ### Note:\n",
    " mong multi dimensional array one dimensional array ta conver kao, kho pa origional array ba sa asar na prewazy."
   ]
  },
  {
   "cell_type": "code",
   "execution_count": null,
   "metadata": {},
   "outputs": [],
   "source": [
    "pltn = np.array([[1, 2], [3, 4], [5,6]])\n",
    "print(pltn)\n",
    "print()\n",
    "print(pltn.flatten()) # convert two dimensional array to one dimensional array.\n",
    "print(\"Check the order \")\n",
    "print()\n",
    "print(pltn.flatten(order=\"F\")) # The elements are stored in memory by column. The first column is stored first, then the second column, and so on.\n",
    "print()\n",
    "print(pltn.flatten(order='C'))  # The elements of the array are stored in memory by row. The first row is stored first, then the second row, and so on.\n",
    "print()\n",
    "print(\"'K': Same as flatten().\",pltn.flatten(order='K'))   # K: Flatten the array in the order of the elements in memory.\n",
    "print()\n",
    "print(\"'A': Same as flatten().\",pltn.flatten(order='A'))\n",
    "print()\n",
    "pltn1 = np.array([[1, 2], [3, 4], [5,6]], order='F')\n",
    "print(pltn1.flatten(order='A'))   #Flatten according to the array's memory layout."
   ]
  },
  {
   "cell_type": "markdown",
   "metadata": {},
   "source": [
    "## Ravel():\n",
    "opposite the flatten function, wapas mong sara origional array ta convert she."
   ]
  },
  {
   "cell_type": "code",
   "execution_count": null,
   "metadata": {},
   "outputs": [],
   "source": [
    "rvl = np.array([1, 2, 3, 4, 5, 6])\n",
    "rvl_1= np.resize(rvl,(2,3)) # Shape change the array\n",
    "print(rvl_1)\n",
    "print()\n",
    "print(rvl_1.ravel())  # ravel function use to print at the origioanl array.\n"
   ]
  }
 ],
 "metadata": {
  "kernelspec": {
   "display_name": "Python 3",
   "language": "python",
   "name": "python3"
  },
  "language_info": {
   "codemirror_mode": {
    "name": "ipython",
    "version": 3
   },
   "file_extension": ".py",
   "mimetype": "text/x-python",
   "name": "python",
   "nbconvert_exporter": "python",
   "pygments_lexer": "ipython3",
   "version": "3.13.2"
  }
 },
 "nbformat": 4,
 "nbformat_minor": 2
}
