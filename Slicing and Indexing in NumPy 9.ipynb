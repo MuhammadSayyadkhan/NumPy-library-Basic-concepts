{
 "cells": [
  {
   "cell_type": "markdown",
   "metadata": {},
   "source": [
    "## Indexing:\n",
    "Finding the indexing of one, two, and three dimensional array"
   ]
  },
  {
   "cell_type": "markdown",
   "metadata": {},
   "source": [
    "## One dimensional Array:"
   ]
  },
  {
   "cell_type": "code",
   "execution_count": 1,
   "metadata": {},
   "outputs": [
    {
     "name": "stdout",
     "output_type": "stream",
     "text": [
      "3\n"
     ]
    }
   ],
   "source": [
    "import numpy as np\n",
    "var=np.array([1, 2, 3, 5])\n",
    "print(var[2])"
   ]
  },
  {
   "cell_type": "markdown",
   "metadata": {},
   "source": [
    "## Two dimensional Array:\n",
    "Two point of two dimensional array.[[]] the first the dimensional we are used 0 and second is 1."
   ]
  },
  {
   "cell_type": "code",
   "execution_count": 2,
   "metadata": {},
   "outputs": [
    {
     "name": "stdout",
     "output_type": "stream",
     "text": [
      "[[1 2 3 4]\n",
      " [5 6 7 8]]\n",
      "\n",
      "3\n",
      "\n",
      "8\n"
     ]
    }
   ],
   "source": [
    "var1=np.array([[1, 2, 3, 4],[5, 6, 7, 8]])\n",
    "print(var1)\n",
    "print()\n",
    "print(var1[0, 2]) # 0 mean dimensional one and two mean index 2\n",
    "print()\n",
    "print(var1[1,3]) #1 mean dimensional two and three mean index 3"
   ]
  },
  {
   "cell_type": "markdown",
   "metadata": {},
   "source": [
    "## Three Dimensional Array:\n",
    "Indexing in a 3D NumPy array is similar to indexing in 2D arrays, but with an additional dimension. A 3D array has the shape (depth, rows, columns). Here’s how you can index it:"
   ]
  },
  {
   "cell_type": "code",
   "execution_count": 3,
   "metadata": {},
   "outputs": [
    {
     "name": "stdout",
     "output_type": "stream",
     "text": [
      "[[[1 2]\n",
      "  [3 4]]\n",
      "\n",
      " [[5 6]\n",
      "  [7 8]]]\n",
      "3\n",
      "\n",
      "4\n",
      "6\n"
     ]
    }
   ],
   "source": [
    "arr = np.array([[[1, 2], [3, 4]], \n",
    "                [[5, 6], [7, 8]]])\n",
    "print(arr)\n",
    "print(arr.ndim)\n",
    "print()\n",
    "print(arr[0,1,1]) # 0 mean dimensional 1, one mean rwo 2=[3, 4], index 1.\n",
    "print(arr[1,0,1]) # 1 mean dimensional 2, 0 mean row 1=[5,6], index 1.\n"
   ]
  },
  {
   "cell_type": "code",
   "execution_count": 4,
   "metadata": {},
   "outputs": [
    {
     "name": "stdout",
     "output_type": "stream",
     "text": [
      "[[[ 1  3  5]\n",
      "  [23 45 65]]\n",
      "\n",
      " [[ 0  0  0]\n",
      "  [99 89 54]]\n",
      "\n",
      " [[22 11 22]\n",
      "  [ 4  3  2]]]\n",
      "3\n",
      "\n",
      "45\n",
      "0\n",
      "2\n"
     ]
    }
   ],
   "source": [
    "arr = np.array([[[1, 3, 5],[23, 45, 65]],\n",
    "                [[0, 00, 000],[99, 89, 54]],\n",
    "                [[22, 11, 22], [4, 3, 2]]])\n",
    "print(arr)\n",
    "print(arr.ndim)\n",
    "print()\n",
    "print(arr[0,1,1]) # 0 mean dimensional 1, one mean rwo 2=[3, 4], index 1.\n",
    "print(arr[1,0,1]) # 1 mean dimensional 2, 0 mean row 1=[5,6], index 1.\n",
    "print(arr[2,1,2]) # 2 mean dimensional 3, 1 mean row 2, index 2. \n"
   ]
  },
  {
   "cell_type": "markdown",
   "metadata": {},
   "source": [
    "## Slicing in array:\n",
    "Slicing in NumPy allows you to access a specific range of elements from an array. It’s similar to Python lists but with additional features. Here's how slicing works in NumPy:\n",
    "### Basic syntex:\n",
    "array[start:stop:step]\n",
    "start: The index where slicing starts (inclusive).\n",
    "stop: The index where slicing stops (exclusive).\n",
    "step: The step size between indices (optional, default is 1)."
   ]
  },
  {
   "cell_type": "code",
   "execution_count": 5,
   "metadata": {},
   "outputs": [
    {
     "name": "stdout",
     "output_type": "stream",
     "text": [
      "[99 55  3  4 55  3]\n",
      "\n",
      "99 to 55  [99 55  3  4 55]\n"
     ]
    }
   ],
   "source": [
    "var=np.array([99, 55, 3, 4, 55, 3])\n",
    "print(var)\n",
    "print()\n",
    "print(\"99 to 55 \",var[0:5])"
   ]
  },
  {
   "cell_type": "markdown",
   "metadata": {},
   "source": [
    "## Two Dimensional Array:"
   ]
  },
  {
   "cell_type": "code",
   "execution_count": 6,
   "metadata": {},
   "outputs": [
    {
     "name": "stdout",
     "output_type": "stream",
     "text": [
      "[[ 1  2  3  4  5]\n",
      " [ 3  5  6  7  8]\n",
      " [12  2  3 44 33]]\n",
      "\n",
      " print the row one 2 to 4 value [2 3 4]\n",
      " print the value of row 2, 6 to 8 [6 7 8]\n",
      " print the value of row 3, 44 to 33 [44 33]\n"
     ]
    }
   ],
   "source": [
    "var1=np.array([[1, 2, 3, 4, 5], [3, 5, 6, 7, 8],[12, 2, 3, 44, 33]])\n",
    "print(var1)\n",
    "print()\n",
    "print(\" print the row one 2 to 4 value\", var1[0,1:4])   # 0 mean row 1, index 1 start to index 4-1\n",
    "print(\" print the value of row 2, 6 to 8\",var1[1,2:])   # 1 mean row 2, idext 2 start last tak\n",
    "print(\" print the value of row 3, 44 to 33\",var1[2,3:]) #2 mean row 3, index 3 start to last tak. "
   ]
  },
  {
   "cell_type": "markdown",
   "metadata": {},
   "source": [
    "## Using Step in Slicing:\n",
    "start, stop, step. step mean element number, i.e : [1:6: 2] index 1 then index 3 index 5 etc"
   ]
  },
  {
   "cell_type": "code",
   "execution_count": 7,
   "metadata": {},
   "outputs": [
    {
     "name": "stdout",
     "output_type": "stream",
     "text": [
      "print the value of 4 to 88 tak, beween in 2 step [ 4  7 54 88]\n"
     ]
    }
   ],
   "source": [
    "step = np.array([11, 2, 4, 66, 7, 78, 54, 67, 88, 44])\n",
    "print(\"print the value of 4 to 88 tak, beween in 2 step\", step[2: 9:2]) # output : 4, 7, 54, 88"
   ]
  }
 ],
 "metadata": {
  "kernelspec": {
   "display_name": "Python 3",
   "language": "python",
   "name": "python3"
  },
  "language_info": {
   "codemirror_mode": {
    "name": "ipython",
    "version": 3
   },
   "file_extension": ".py",
   "mimetype": "text/x-python",
   "name": "python",
   "nbconvert_exporter": "python",
   "pygments_lexer": "ipython3",
   "version": "3.13.3"
  }
 },
 "nbformat": 4,
 "nbformat_minor": 2
}
