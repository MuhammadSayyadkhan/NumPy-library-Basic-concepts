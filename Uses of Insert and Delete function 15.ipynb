{
 "cells": [
  {
   "cell_type": "markdown",
   "metadata": {},
   "source": [
    "## Insert & Delate:\n",
    "insert() and delete() functions. Both functions allow you to modify the array by adding or removing elements at specific positions.\n"
   ]
  },
  {
   "cell_type": "markdown",
   "metadata": {},
   "source": [
    "## insert()\n",
    "### Purpose:\n",
    "Inserts values into an array at specified indices.\n",
    "### Syntax:\n",
    "numpy.insert(arr, obj, values, axis=None)"
   ]
  },
  {
   "cell_type": "code",
   "execution_count": 1,
   "metadata": {},
   "outputs": [
    {
     "name": "stdout",
     "output_type": "stream",
     "text": [
      "[1 2 3 4 5]\n",
      "[ 1  2 12 34  3  4  5]\n"
     ]
    }
   ],
   "source": [
    "import numpy as np\n",
    "arr = np.array([1, 2, 3, 4, 5])\n",
    "x=np.insert(arr, 2, [12, 34])\n",
    "print(arr)\n",
    "print(x)"
   ]
  },
  {
   "cell_type": "markdown",
   "metadata": {},
   "source": [
    "### Two Dimensional Array Insert:"
   ]
  },
  {
   "cell_type": "code",
   "execution_count": 2,
   "metadata": {},
   "outputs": [
    {
     "name": "stdout",
     "output_type": "stream",
     "text": [
      "[[1 2 3]\n",
      " [4 5 6]]\n",
      "\n",
      "[[ 1  2 11  3]\n",
      " [ 4  5 22  6]]\n"
     ]
    }
   ],
   "source": [
    "x = np.array([[1,2, 3],[4, 5, 6]])\n",
    "y = np.insert(x, 2, [11, 22], axis=1) # axis mean column site value store\n",
    "print(x)\n",
    "print()\n",
    "print(y)"
   ]
  },
  {
   "cell_type": "markdown",
   "metadata": {},
   "source": [
    "appened be used, to store data."
   ]
  },
  {
   "cell_type": "code",
   "execution_count": 3,
   "metadata": {},
   "outputs": [
    {
     "name": "stdout",
     "output_type": "stream",
     "text": [
      "[[1 2]\n",
      " [3 4]]\n",
      "\n",
      "[[ 1  2]\n",
      " [ 3  4]\n",
      " [12 13]]\n"
     ]
    }
   ],
   "source": [
    "x1 = np.array([[1, 2], [3, 4]])\n",
    "y1 = np.append(x1, [[12, 13]],axis=0) # appened value store at the last index.\n",
    "print(x1)\n",
    "print()\n",
    "print(y1)"
   ]
  },
  {
   "cell_type": "markdown",
   "metadata": {},
   "source": [
    "## Delate:\n",
    "### numpy.delete()\n",
    "Purpose: Deletes elements from an array at specified indices.\n",
    "### Syntax:\n",
    "numpy.delete(arr, obj, axis=None"
   ]
  },
  {
   "cell_type": "code",
   "execution_count": 4,
   "metadata": {},
   "outputs": [
    {
     "name": "stdout",
     "output_type": "stream",
     "text": [
      "[1 2 3 4 5 6]\n",
      "\n",
      "[1 2 4 5 6]\n",
      "[2 4 6]\n"
     ]
    }
   ],
   "source": [
    "array_1 = np.array([1, 2, 3, 4, 5, 6])\n",
    "array_2 = np.delete(array_1, 2)        # index 2 delate\n",
    "array_3 = np.delete(array_1, [0,2,4])  # 1, 3, 5 delate \n",
    "print(array_1)\n",
    "print()\n",
    "print(array_2)\n",
    "print(array_3)"
   ]
  }
 ],
 "metadata": {
  "kernelspec": {
   "display_name": "Python 3",
   "language": "python",
   "name": "python3"
  },
  "language_info": {
   "codemirror_mode": {
    "name": "ipython",
    "version": 3
   },
   "file_extension": ".py",
   "mimetype": "text/x-python",
   "name": "python",
   "nbconvert_exporter": "python",
   "pygments_lexer": "ipython3",
   "version": "3.13.3"
  }
 },
 "nbformat": 4,
 "nbformat_minor": 2
}
