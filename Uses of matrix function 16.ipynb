{
 "cells": [
  {
   "cell_type": "markdown",
   "metadata": {},
   "source": [
    "## Matrix:\n",
    "### Matrix in NumPy:\n",
    "To create a matrix in NumPy, you can either use the numpy.matrix class or create a 2D array (which is more common)."
   ]
  },
  {
   "cell_type": "code",
   "execution_count": 1,
   "metadata": {},
   "outputs": [
    {
     "name": "stdout",
     "output_type": "stream",
     "text": [
      "[[1 2 3 4]]\n"
     ]
    }
   ],
   "source": [
    "import numpy as np\n",
    "var = np.matrix([1, 2, 3, 4])\n",
    "print(var)"
   ]
  },
  {
   "cell_type": "markdown",
   "metadata": {},
   "source": [
    "Array:"
   ]
  },
  {
   "cell_type": "code",
   "execution_count": 2,
   "metadata": {},
   "outputs": [
    {
     "name": "stdout",
     "output_type": "stream",
     "text": [
      "[1 2 3 4]\n"
     ]
    }
   ],
   "source": [
    "var1 =np.array([1, 2, 3, 4])\n",
    "print(var1)"
   ]
  },
  {
   "cell_type": "markdown",
   "metadata": {},
   "source": [
    "## Array and Matrix:\n",
    "In this case, the numpy.array is more flexible and works with a wider range of functions. numpy.matrix is limited in terms of the functions it supports, and many people prefer to work with ndarray for matrix-like operations."
   ]
  },
  {
   "cell_type": "markdown",
   "metadata": {},
   "source": [
    "## Matrix Functions in NumPy:\n",
    "NumPy provides a variety of functions to perform matrix-related operations. Some of the common ones include:"
   ]
  },
  {
   "cell_type": "markdown",
   "metadata": {},
   "source": [
    "### Matrix Multiplication:\n",
    "use dot() for matrix."
   ]
  },
  {
   "cell_type": "code",
   "execution_count": 3,
   "metadata": {},
   "outputs": [
    {
     "name": "stdout",
     "output_type": "stream",
     "text": [
      "[[19 22]\n",
      " [43 50]]\n",
      "[[1 2]\n",
      " [3 4]]\n",
      "\n",
      "[[5 6]\n",
      " [7 8]]\n"
     ]
    }
   ],
   "source": [
    "A = np.array([[1, 2], [3, 4]])\n",
    "B = np.array([[5, 6], [7, 8]])\n",
    "\n",
    "result = np.dot(A, B)  # Matrix multiplication\n",
    "print(result)\n",
    "print(A)\n",
    "print()\n",
    "print(B)"
   ]
  },
  {
   "cell_type": "markdown",
   "metadata": {},
   "source": [
    "## Matrix:\n",
    " Transpose: You can transpose a matrix using .T.\n",
    " Transpose mean ulta the origional matrix."
   ]
  },
  {
   "cell_type": "code",
   "execution_count": 4,
   "metadata": {},
   "outputs": [
    {
     "name": "stdout",
     "output_type": "stream",
     "text": [
      "[[1 2]\n",
      " [3 4]]\n",
      "\n",
      "[[1 3]\n",
      " [2 4]]\n",
      "\n",
      "[[1 3]\n",
      " [2 4]]\n"
     ]
    }
   ],
   "source": [
    "x = np.matrix([[1, 2],[3, 4]])\n",
    "y = np.transpose(x)\n",
    "print(x) # origional array\n",
    "print()\n",
    "print(y) # transpose array\n",
    "print()\n",
    "print(x.T) # Short cut "
   ]
  },
  {
   "cell_type": "markdown",
   "metadata": {},
   "source": [
    "### swapaxes():\n",
    "transpose and swapaxes same work but swapaxes change the dimensional."
   ]
  },
  {
   "cell_type": "code",
   "execution_count": 5,
   "metadata": {},
   "outputs": [
    {
     "name": "stdout",
     "output_type": "stream",
     "text": [
      "[[1 2]\n",
      " [3 4]]\n",
      "\n",
      "[[1 3]\n",
      " [2 4]]\n"
     ]
    }
   ],
   "source": [
    "arr = np.matrix([[1, 2],[3, 4]])\n",
    "print(arr)\n",
    "print()\n",
    "print(np.swapaxes(arr, 0,1))"
   ]
  },
  {
   "cell_type": "code",
   "execution_count": 6,
   "metadata": {},
   "outputs": [
    {
     "name": "stdout",
     "output_type": "stream",
     "text": [
      "[[3 2]\n",
      " [1 4]]\n",
      "\n",
      "[[ 0.4 -0.2]\n",
      " [-0.1  0.3]]\n"
     ]
    }
   ],
   "source": [
    "one = np.matrix([[3,2],[1,4]])\n",
    "print(one)\n",
    "print()\n",
    "print(np.linalg.inv(one))"
   ]
  },
  {
   "cell_type": "code",
   "execution_count": 7,
   "metadata": {},
   "outputs": [
    {
     "name": "stdout",
     "output_type": "stream",
     "text": [
      "[[10  3]\n",
      " [ 5  2]]\n",
      "[[ 0.4 -0.6]\n",
      " [-1.   2. ]]\n"
     ]
    }
   ],
   "source": [
    "two = np.matrix([[10, 3],[5,2]])\n",
    "# inverse = np.linalg.inv(two) # first cross multiplication then cross multiplication divide by element.\n",
    "print(two)\n",
    "print(np.linalg.inv(two))"
   ]
  },
  {
   "cell_type": "markdown",
   "metadata": {},
   "source": [
    "## Three dimensional Determinant:\n"
   ]
  },
  {
   "cell_type": "code",
   "execution_count": 8,
   "metadata": {},
   "outputs": [
    {
     "name": "stdout",
     "output_type": "stream",
     "text": [
      "[[1 2 3]\n",
      " [4 5 6]\n",
      " [7 8 9]]\n",
      "\n",
      "0.0\n"
     ]
    }
   ],
   "source": [
    "var = np.matrix([[1, 2, 3],[4, 5, 6],[7, 8, 9]])\n",
    "print(var)\n",
    "print()\n",
    "print(np.linalg.det(var))"
   ]
  }
 ],
 "metadata": {
  "kernelspec": {
   "display_name": "Python 3",
   "language": "python",
   "name": "python3"
  },
  "language_info": {
   "codemirror_mode": {
    "name": "ipython",
    "version": 3
   },
   "file_extension": ".py",
   "mimetype": "text/x-python",
   "name": "python",
   "nbconvert_exporter": "python",
   "pygments_lexer": "ipython3",
   "version": "3.13.3"
  }
 },
 "nbformat": 4,
 "nbformat_minor": 2
}
